{
 "cells": [
  {
   "cell_type": "code",
   "execution_count": 4,
   "metadata": {},
   "outputs": [
    {
     "name": "stdout",
     "output_type": "stream",
     "text": [
      "b'<?xml version=\"1.0\" encoding=\"UTF-8\"?>\\n<sitemapindex xmlns=\"http://www.sitemaps.org/schemas/sitemap/0.9\">\\n<sitemap><loc>https://asterix.fandom.com/sitemap-newsitemapxml-NS_0-id-1461-3675.xml</loc></sitemap>\\n<sitemap><loc>https://asterix.fandom.com/sitemap-newsitemapxml-NS_14-id-1509-3220.xml</loc></sitemap>\\n<sitemap><loc>https://services.fandom.com/discussions-sitemap/sitemap/3118</loc></sitemap>\\n</sitemapindex>\\n<!-- Generation time: 4ms -->\\n<!-- Generation date: 2021-10-09T16:42:40Z -->\\n'\n"
     ]
    }
   ],
   "source": [
    "import requests\n",
    "#result = requests.get(\"https://lotr.fandom.com/sitemap-newsitemapxml-index.xml\")\n",
    "#https://lotr.fandom.com/sitemap-newsitemapxml-index.xml\n",
    "#result = requests.get(\"https://harrypotter.fandom.com/sitemap-newsitemapxml-index.xml\")\n",
    "result = requests.get(\"https://asterix.fandom.com/sitemap-newsitemapxml-index.xml\");\n",
    "c = result.content\n",
    "print(c)"
   ]
  },
  {
   "cell_type": "code",
   "execution_count": 5,
   "metadata": {},
   "outputs": [
    {
     "name": "stdout",
     "output_type": "stream",
     "text": [
      "https://asterix.fandom.com/sitemap-newsitemapxml-NS_0-id-1461-3675.xml\n",
      "https://asterix.fandom.com/sitemap-newsitemapxml-NS_14-id-1509-3220.xml\n",
      "https://services.fandom.com/discussions-sitemap/sitemap/3118\n"
     ]
    }
   ],
   "source": [
    "from bs4 import BeautifulSoup \n",
    "import lxml\n",
    "import xml.etree.ElementTree as ET\n",
    "root = ET.fromstring(c)\n",
    "for link in root.iter('{http://www.sitemaps.org/schemas/sitemap/0.9}loc'):\n",
    "    print(link.text)"
   ]
  },
  {
   "cell_type": "code",
   "execution_count": 6,
   "metadata": {},
   "outputs": [
    {
     "name": "stdout",
     "output_type": "stream",
     "text": [
      "Found 337 elements\n"
     ]
    }
   ],
   "source": [
    "elements = dict()\n",
    "for page in root.iter('{http://www.sitemaps.org/schemas/sitemap/0.9}loc'):\n",
    "    result = requests.get(page.text)\n",
    "    c = result.content\n",
    "    new_root = ET.fromstring(c)\n",
    "    for element in new_root.iter('{http://www.sitemaps.org/schemas/sitemap/0.9}loc'):\n",
    "        elements[element.text.split('/')[-1]] = element.text\n",
    "print('Found {} elements'.format(len(elements)))"
   ]
  },
  {
   "cell_type": "code",
   "execution_count": 38,
   "metadata": {},
   "outputs": [
    {
     "data": {
      "text/plain": [
       "'https://lotr.fandom.com/wiki/Carolynne_Cunningham'"
      ]
     },
     "execution_count": 38,
     "metadata": {},
     "output_type": "execute_result"
    }
   ],
   "source": [
    "elements['Carolynne_Cunningham']"
   ]
  },
  {
   "cell_type": "code",
   "execution_count": 7,
   "metadata": {},
   "outputs": [
    {
     "data": {
      "text/plain": [
       "dict_items([('Main_Page', 'https://asterix.fandom.com/wiki/Main_Page'), ('Ren%C3%A9_Goscinny', 'https://asterix.fandom.com/wiki/Ren%C3%A9_Goscinny'), ('Albert_Uderzo', 'https://asterix.fandom.com/wiki/Albert_Uderzo'), ('April_25', 'https://asterix.fandom.com/wiki/April_25'), ('National_Geographic', 'https://asterix.fandom.com/wiki/National_Geographic'), ('Cook_da_Books', 'https://asterix.fandom.com/wiki/Cook_da_Books'), ('Asterix_and_the_Golden_Sickle', 'https://asterix.fandom.com/wiki/Asterix_and_the_Golden_Sickle'), ('November_5', 'https://asterix.fandom.com/wiki/November_5'), ('Asterix_(Character)', 'https://asterix.fandom.com/wiki/Asterix_(Character)'), ('Asterix_and_the_Big_Fight', 'https://asterix.fandom.com/wiki/Asterix_and_the_Big_Fight'), ('Roger_Carel', 'https://asterix.fandom.com/wiki/Roger_Carel'), ('August_14', 'https://asterix.fandom.com/wiki/August_14'), ('Pilote', 'https://asterix.fandom.com/wiki/Pilote'), ('Page_4', 'https://asterix.fandom.com/wiki/Page_4'), ('Asterix_and_the_Goths', 'https://asterix.fandom.com/wiki/Asterix_and_the_Goths'), ('Asterix_and_the_Banquet', 'https://asterix.fandom.com/wiki/Asterix_and_the_Banquet'), ('Asterix_and_Cleopatra', 'https://asterix.fandom.com/wiki/Asterix_and_Cleopatra'), ('Asterix_and_the_Soothsayer', 'https://asterix.fandom.com/wiki/Asterix_and_the_Soothsayer'), ('Obelix_and_Co.', 'https://asterix.fandom.com/wiki/Obelix_and_Co.'), ('Asterix_in_Britain', 'https://asterix.fandom.com/wiki/Asterix_in_Britain'), ('Asterix_in_Corsica', 'https://asterix.fandom.com/wiki/Asterix_in_Corsica'), ('Asterix_and_Obelix_All_at_Sea', 'https://asterix.fandom.com/wiki/Asterix_and_Obelix_All_at_Sea'), ('Asterix_and_the_Actress', 'https://asterix.fandom.com/wiki/Asterix_and_the_Actress'), ('Asterix_and_the_Cauldron', 'https://asterix.fandom.com/wiki/Asterix_and_the_Cauldron'), ('Asterix_and_the_Class_Act', 'https://asterix.fandom.com/wiki/Asterix_and_the_Class_Act'), ('Impedimenta', 'https://asterix.fandom.com/wiki/Impedimenta'), ('Bacteria', 'https://asterix.fandom.com/wiki/Bacteria'), ('Asterix_and_Obelix_take_on_Caesar', 'https://asterix.fandom.com/wiki/Asterix_and_Obelix_take_on_Caesar'), ('Asterix_the_Gladiator', 'https://asterix.fandom.com/wiki/Asterix_the_Gladiator'), ('The_Pirates', 'https://asterix.fandom.com/wiki/The_Pirates'), ('Asterix_and_the_Great_Crossing', 'https://asterix.fandom.com/wiki/Asterix_and_the_Great_Crossing'), ('Asterix_the_Gaul_(film)', 'https://asterix.fandom.com/wiki/Asterix_the_Gaul_(film)'), ('Asterix_and_Cleopatra_(film)', 'https://asterix.fandom.com/wiki/Asterix_and_Cleopatra_(film)'), ('Odius_Asparagus', 'https://asterix.fandom.com/wiki/Odius_Asparagus'), ('Overanxius', 'https://asterix.fandom.com/wiki/Overanxius'), ('Gracchus_Armisurplus', 'https://asterix.fandom.com/wiki/Gracchus_Armisurplus'), ('Crismus_Bonus', 'https://asterix.fandom.com/wiki/Crismus_Bonus'), ('Surplus_Dairiprodus', 'https://asterix.fandom.com/wiki/Surplus_Dairiprodus'), ('Metallurgix', 'https://asterix.fandom.com/wiki/Metallurgix'), ('Cantankerus', 'https://asterix.fandom.com/wiki/Cantankerus'), ('Redbeard', 'https://asterix.fandom.com/wiki/Redbeard'), ('Metric', 'https://asterix.fandom.com/wiki/Metric'), ('Cleopatra', 'https://asterix.fandom.com/wiki/Cleopatra'), ('Alcoholix', 'https://asterix.fandom.com/wiki/Alcoholix'), ('Navishtrix', 'https://asterix.fandom.com/wiki/Navishtrix'), ('C%C3%A9sar_Drinklikafix', 'https://asterix.fandom.com/wiki/C%C3%A9sar_Drinklikafix'), ('Clovogarlix', 'https://asterix.fandom.com/wiki/Clovogarlix'), ('Edifis', 'https://asterix.fandom.com/wiki/Edifis'), ('Caligula_Minus', 'https://asterix.fandom.com/wiki/Caligula_Minus'), ('Caius_Fatuous', 'https://asterix.fandom.com/wiki/Caius_Fatuous'), ('The_Many_Languages_in_the_world_of_Asterix', 'https://asterix.fandom.com/wiki/The_Many_Languages_in_the_world_of_Asterix'), ('Ekonomikrisis', 'https://asterix.fandom.com/wiki/Ekonomikrisis'), ('Claudius_M%C3%A9trobus', 'https://asterix.fandom.com/wiki/Claudius_M%C3%A9trobus'), ('Pirate_Lookout', 'https://asterix.fandom.com/wiki/Pirate_Lookout'), ('Erix', 'https://asterix.fandom.com/wiki/Erix'), ('The_Legionaries_in_The_World_Of_Asterix', 'https://asterix.fandom.com/wiki/The_Legionaries_in_The_World_Of_Asterix'), ('Rhetoric', 'https://asterix.fandom.com/wiki/Rhetoric'), ('Choleric', 'https://asterix.fandom.com/wiki/Choleric'), ('Atmospheric,_Prehsitoric,_Tartaric,_Esoteric', 'https://asterix.fandom.com/wiki/Atmospheric,_Prehsitoric,_Tartaric,_Esoteric'), ('Anticlimax', 'https://asterix.fandom.com/wiki/Anticlimax'), ('Tullius_Octopus', 'https://asterix.fandom.com/wiki/Tullius_Octopus'), ('Caius_Flebitus,_Gracchus_Sextilius_and_Claudius_Quintilius', 'https://asterix.fandom.com/wiki/Caius_Flebitus,_Gracchus_Sextilius_and_Claudius_Quintilius'), ('Gracchus_Sextilius,_Caius_Flebitus_and_Claudius_Quintilius', 'https://asterix.fandom.com/wiki/Gracchus_Sextilius,_Caius_Flebitus_and_Claudius_Quintilius'), ('Julius_Pompus', 'https://asterix.fandom.com/wiki/Julius_Pompus'), ('_Amonbofis', 'https://asterix.fandom.com/wiki/Artifis_/_Amonbofis'), ('Krukhut', 'https://asterix.fandom.com/wiki/Krukhut'), ('Gastroenteritus_and_Arteriosclerosus', 'https://asterix.fandom.com/wiki/Gastroenteritus_and_Arteriosclerosus'), ('The_Centurions_in_The_World_of_Asterix', 'https://asterix.fandom.com/wiki/The_Centurions_in_The_World_of_Asterix'), ('Instantmix', 'https://asterix.fandom.com/wiki/Instantmix'), ('Pierre_Tchernia', 'https://asterix.fandom.com/wiki/Pierre_Tchernia'), ('Asterix_vs_Caesar', 'https://asterix.fandom.com/wiki/Asterix_vs_Caesar'), ('Asterix_in_Britain_(film)', 'https://asterix.fandom.com/wiki/Asterix_in_Britain_(film)'), ('Asterix_and_the_Vikings', 'https://asterix.fandom.com/wiki/Asterix_and_the_Vikings'), ('Asterix_and_the_Golden_Sickle_(film)', 'https://asterix.fandom.com/wiki/Asterix_and_the_Golden_Sickle_(film)'), ('Asterix_in_Spain_(film)', 'https://asterix.fandom.com/wiki/Asterix_in_Spain_(film)'), ('Two_Romans_in_Gaul', 'https://asterix.fandom.com/wiki/Two_Romans_in_Gaul'), ('Untitled_Dogmatix_film', 'https://asterix.fandom.com/wiki/Untitled_Dogmatix_film'), ('Nationalities_in_the_Asterix_Books', 'https://asterix.fandom.com/wiki/Nationalities_in_the_Asterix_Books'), ('Asterix_in_Spain', 'https://asterix.fandom.com/wiki/Asterix_in_Spain'), ('Asterix_and_the_Roman_Agent', 'https://asterix.fandom.com/wiki/Asterix_and_the_Roman_Agent'), ('Asterix_in_Switzerland', 'https://asterix.fandom.com/wiki/Asterix_in_Switzerland'), ('Asterix_and_The_Mansion_of_the_Gods', 'https://asterix.fandom.com/wiki/Asterix_and_The_Mansion_of_the_Gods'), ('Asterix_and_the_Laurel_Wreath', 'https://asterix.fandom.com/wiki/Asterix_and_the_Laurel_Wreath'), ('Asterix_%26_Obelix_XXL', 'https://asterix.fandom.com/wiki/Asterix_%26_Obelix_XXL'), ('Asterix_the_Legionary', 'https://asterix.fandom.com/wiki/Asterix_the_Legionary'), ('Asterix_at_the_Olympic_Games', 'https://asterix.fandom.com/wiki/Asterix_at_the_Olympic_Games'), ('Asterix_and_the_Chieftain%27s_Shield', 'https://asterix.fandom.com/wiki/Asterix_and_the_Chieftain%27s_Shield'), ('The_Mansions_of_the_Gods', 'https://asterix.fandom.com/wiki/The_Mansions_of_the_Gods'), ('Asterix_and_Caesar%27s_Gift', 'https://asterix.fandom.com/wiki/Asterix_and_Caesar%27s_Gift'), ('The_Gauls', 'https://asterix.fandom.com/wiki/The_Gauls'), ('Romans', 'https://asterix.fandom.com/wiki/Romans'), ('The_Goths', 'https://asterix.fandom.com/wiki/The_Goths'), ('The_Phoenicians', 'https://asterix.fandom.com/wiki/The_Phoenicians'), ('Asterix_and_Obelix%27s_Birthday:_The_Golden_Book', 'https://asterix.fandom.com/wiki/Asterix_and_Obelix%27s_Birthday:_The_Golden_Book'), ('Asterix_and_Obelix_XXL_2_:_Mission_Las_Vegum', 'https://asterix.fandom.com/wiki/Asterix_and_Obelix_XXL_2_:_Mission_Las_Vegum'), ('Anthea_Bell', 'https://asterix.fandom.com/wiki/Anthea_Bell'), ('Derek_Hockridge', 'https://asterix.fandom.com/wiki/Derek_Hockridge'), ('Robert_Steven_Caron', 'https://asterix.fandom.com/wiki/Robert_Steven_Caron'), ('Wild_boars', 'https://asterix.fandom.com/wiki/Wild_boars'), ('Prefix', 'https://asterix.fandom.com/wiki/Prefix'), ('Tenansix', 'https://asterix.fandom.com/wiki/Tenansix'), ('Porpus', 'https://asterix.fandom.com/wiki/Porpus'), ('The_Goth_self_proclaimed_chiefs', 'https://asterix.fandom.com/wiki/The_Goth_self_proclaimed_chiefs'), ('List_of_Asterix_volumes', 'https://asterix.fandom.com/wiki/List_of_Asterix_volumes'), ('Secrets_de_druides', 'https://asterix.fandom.com/wiki/Secrets_de_druides'), ('Totorum', 'https://asterix.fandom.com/wiki/Totorum'), ('Felix_Platypus', 'https://asterix.fandom.com/wiki/Felix_Platypus'), ('Menhir', 'https://asterix.fandom.com/wiki/Menhir'), ('Lutetia', 'https://asterix.fandom.com/wiki/Lutetia'), ('Gluteus_Maximus', 'https://asterix.fandom.com/wiki/Gluteus_Maximus'), ('Berlix', 'https://asterix.fandom.com/wiki/Berlix'), ('Bicarbonatofsoda', 'https://asterix.fandom.com/wiki/Bicarbonatofsoda'), ('Botanix', 'https://asterix.fandom.com/wiki/Botanix'), ('Cassius_Ceramix', 'https://asterix.fandom.com/wiki/Cassius_Ceramix'), ('Chanticleerix', 'https://asterix.fandom.com/wiki/Chanticleerix'), ('Codfix', 'https://asterix.fandom.com/wiki/Codfix'), ('Hydrophobia', 'https://asterix.fandom.com/wiki/Hydrophobia'), ('Jellibabix', 'https://asterix.fandom.com/wiki/Jellibabix'), ('Justforkix', 'https://asterix.fandom.com/wiki/Justforkix'), ('Picanmix', 'https://asterix.fandom.com/wiki/Picanmix'), ('Prawnsinaspix', 'https://asterix.fandom.com/wiki/Prawnsinaspix'), ('Psychoanalytix', 'https://asterix.fandom.com/wiki/Psychoanalytix'), ('Seniorservix', 'https://asterix.fandom.com/wiki/Seniorservix'), ('Tunafix', 'https://asterix.fandom.com/wiki/Tunafix'), ('Unpatriotix', 'https://asterix.fandom.com/wiki/Unpatriotix'), ('Uptotrix', 'https://asterix.fandom.com/wiki/Uptotrix'), ('Valueaddedtax', 'https://asterix.fandom.com/wiki/Valueaddedtax'), ('Adipus', 'https://asterix.fandom.com/wiki/Adipus'), ('Appianglorious', 'https://asterix.fandom.com/wiki/Appianglorious'), ('Arteriosclerosus', 'https://asterix.fandom.com/wiki/Arteriosclerosus'), ('Gastroenteritus', 'https://asterix.fandom.com/wiki/Gastroenteritus'), ('Asterus', 'https://asterix.fandom.com/wiki/Asterus'), ('Obelus', 'https://asterix.fandom.com/wiki/Obelus'), ('Begonia', 'https://asterix.fandom.com/wiki/Begonia'), ('Brutus', 'https://asterix.fandom.com/wiki/Brutus'), ('Cadaverus', 'https://asterix.fandom.com/wiki/Cadaverus'), ('Caius_Flebitus', 'https://asterix.fandom.com/wiki/Caius_Flebitus'), ('Caliguliminix', 'https://asterix.fandom.com/wiki/Caliguliminix'), ('Claudius_Omnibus', 'https://asterix.fandom.com/wiki/Claudius_Omnibus'), ('Claudius_Quintilius', 'https://asterix.fandom.com/wiki/Claudius_Quintilius'), ('Courtingdisastus', 'https://asterix.fandom.com/wiki/Courtingdisastus'), ('Fibrositus', 'https://asterix.fandom.com/wiki/Fibrositus'), ('Fishfingus', 'https://asterix.fandom.com/wiki/Fishfingus'), ('Spongefingus', 'https://asterix.fandom.com/wiki/Spongefingus'), ('Goldenslumbus', 'https://asterix.fandom.com/wiki/Goldenslumbus'), ('Gracchus_Sextilius', 'https://asterix.fandom.com/wiki/Gracchus_Sextilius'), ('Marcus_Ginantonicus', 'https://asterix.fandom.com/wiki/Marcus_Ginantonicus'), ('Insalubrius', 'https://asterix.fandom.com/wiki/Insalubrius'), ('Diagnostix', 'https://asterix.fandom.com/wiki/Diagnostix'), ('Dubbelosix', 'https://asterix.fandom.com/wiki/Dubbelosix'), ('Thermostatix', 'https://asterix.fandom.com/wiki/Thermostatix'), ('Operachorus', 'https://asterix.fandom.com/wiki/Operachorus'), ('Villanus', 'https://asterix.fandom.com/wiki/Villanus'), ('Unscrupulus', 'https://asterix.fandom.com/wiki/Unscrupulus'), ('Motus', 'https://asterix.fandom.com/wiki/Motus'), ('Radius', 'https://asterix.fandom.com/wiki/Radius'), ('Nervus_Illnus', 'https://asterix.fandom.com/wiki/Nervus_Illnus'), ('Julius_Monotonus', 'https://asterix.fandom.com/wiki/Julius_Monotonus'), ('Marcus_Ubiquitus', 'https://asterix.fandom.com/wiki/Marcus_Ubiquitus'), ('Poisonus_Fungus', 'https://asterix.fandom.com/wiki/Poisonus_Fungus'), ('Sendervictorius', 'https://asterix.fandom.com/wiki/Sendervictorius'), ('Ignoramus', 'https://asterix.fandom.com/wiki/Ignoramus'), ('Raucus_Hallelujachorus', 'https://asterix.fandom.com/wiki/Raucus_Hallelujachorus'), ('Nefarius_Porpus', 'https://asterix.fandom.com/wiki/Nefarius_Porpus'), ('Superfluous', 'https://asterix.fandom.com/wiki/Superfluous'), ('Artifis', 'https://asterix.fandom.com/wiki/Artifis'), ('Atmospheric', 'https://asterix.fandom.com/wiki/Atmospheric'), ('Boneywasawarriorwayayix', 'https://asterix.fandom.com/wiki/Boneywasawarriorwayayix'), ('Cleopatra-s_taster', 'https://asterix.fandom.com/wiki/Cleopatra-s_taster'), ('Eccentric', 'https://asterix.fandom.com/wiki/Eccentric'), ('Electric', 'https://asterix.fandom.com/wiki/Electric'), ('Pegleg', 'https://asterix.fandom.com/wiki/Pegleg'), ('Esoteric', 'https://asterix.fandom.com/wiki/Esoteric'), ('Tartaric', 'https://asterix.fandom.com/wiki/Tartaric'), ('Prehistoric', 'https://asterix.fandom.com/wiki/Prehistoric'), ('Liquorix', 'https://asterix.fandom.com/wiki/Liquorix'), ('W_H_Smix', 'https://asterix.fandom.com/wiki/W_H_Smix'), ('Mykingdomforanos', 'https://asterix.fandom.com/wiki/Mykingdomforanos'), ('McAnix', 'https://asterix.fandom.com/wiki/McAnix'), ('O%E2%80%99veroptimistix', 'https://asterix.fandom.com/wiki/O%E2%80%99veroptimistix'), ('Sarsaparilla', 'https://asterix.fandom.com/wiki/Sarsaparilla'), ('Asterix_and_the_Secret_Weapon', 'https://asterix.fandom.com/wiki/Asterix_and_the_Secret_Weapon'), ('Asterix_and_the_Magic_Carpet', 'https://asterix.fandom.com/wiki/Asterix_and_the_Magic_Carpet'), ('Asterix:_The_Mansion_of_the_Gods', 'https://asterix.fandom.com/wiki/Asterix:_The_Mansion_of_the_Gods'), ('Asterix_(Wii_U)', 'https://asterix.fandom.com/wiki/Asterix_(Wii_U)'), ('Indomitable_village', 'https://asterix.fandom.com/wiki/Indomitable_village'), ('Gaul', 'https://asterix.fandom.com/wiki/Gaul'), ('Armorica', 'https://asterix.fandom.com/wiki/Armorica'), ('Normandy', 'https://asterix.fandom.com/wiki/Normandy'), ('Belgica', 'https://asterix.fandom.com/wiki/Belgica'), ('Gallery', 'https://asterix.fandom.com/wiki/Obelix/Gallery'), ('Czech_Asterix_Series', 'https://asterix.fandom.com/wiki/Czech_Asterix_Series'), ('Asterix_and_the_Black_Gold', 'https://asterix.fandom.com/wiki/Asterix_and_the_Black_Gold'), ('Obelix_Family', 'https://asterix.fandom.com/wiki/Obelix_Family'), ('Asterix_Family', 'https://asterix.fandom.com/wiki/Asterix_Family'), ('Asterix_and_Obelix%27s_Birthday', 'https://asterix.fandom.com/wiki/Asterix_and_Obelix%27s_Birthday'), ('Iznogoud', 'https://asterix.fandom.com/wiki/Iznogoud'), ('Asterix_and_the_Normans', 'https://asterix.fandom.com/wiki/Asterix_and_the_Normans'), ('List_of_Asterix_characters', 'https://asterix.fandom.com/wiki/List_of_Asterix_characters'), ('Recurring_characters_in_Asterix', 'https://asterix.fandom.com/wiki/Recurring_characters_in_Asterix'), ('List_of_Asterix_films', 'https://asterix.fandom.com/wiki/List_of_Asterix_films'), ('Alexandre_Astier', 'https://asterix.fandom.com/wiki/Alexandre_Astier'), ('List_of_Asterix_games', 'https://asterix.fandom.com/wiki/List_of_Asterix_games'), ('Asterix_(1983_video_game)', 'https://asterix.fandom.com/wiki/Asterix_(1983_video_game)'), ('Asterix_and_the_Magic_Cauldron', 'https://asterix.fandom.com/wiki/Asterix_and_the_Magic_Cauldron'), ('Asterix_and_the_Magic_Carpet_(video_game)', 'https://asterix.fandom.com/wiki/Asterix_and_the_Magic_Carpet_(video_game)'), ('Lucius_Detritus', 'https://asterix.fandom.com/wiki/Lucius_Detritus'), ('Lee_Payant', 'https://asterix.fandom.com/wiki/Lee_Payant'), ('Ray_Goossens', 'https://asterix.fandom.com/wiki/Ray_Goossens'), ('Paul_Angelis', 'https://asterix.fandom.com/wiki/Paul_Angelis'), ('G%C3%A9rard_Calvi', 'https://asterix.fandom.com/wiki/G%C3%A9rard_Calvi'), ('Darguard', 'https://asterix.fandom.com/wiki/Darguard'), ('Richard_Pearson', 'https://asterix.fandom.com/wiki/Richard_Pearson'), ('Terry_Scott', 'https://asterix.fandom.com/wiki/Terry_Scott'), ('Asterix_the_Gaul', 'https://asterix.fandom.com/wiki/Asterix_the_Gaul'), ('Homeless_Roman_Man', 'https://asterix.fandom.com/wiki/Homeless_Roman_Man'), ('Jean_Fontaine', 'https://asterix.fandom.com/wiki/Jean_Fontaine'), ('Craig_Charles', 'https://asterix.fandom.com/wiki/Craig_Charles'), ('Iris', 'https://asterix.fandom.com/wiki/Iris'), ('Cilindric_the_German', 'https://asterix.fandom.com/wiki/Cilindric_the_German'), ('Verses', 'https://asterix.fandom.com/wiki/Verses'), ('Mannekenpix', 'https://asterix.fandom.com/wiki/Mannekenpix'), ('Old_Man_of_the_Mountain', 'https://asterix.fandom.com/wiki/Old_Man_of_the_Mountain'), ('Asterix_and_Son', 'https://asterix.fandom.com/wiki/Asterix_and_Son'), ('Asterix_and_the_Great_Divide', 'https://asterix.fandom.com/wiki/Asterix_and_the_Great_Divide'), ('Asterix_and_the_Falling_Sky', 'https://asterix.fandom.com/wiki/Asterix_and_the_Falling_Sky'), ('Asterix_and_the_Picts', 'https://asterix.fandom.com/wiki/Asterix_and_the_Picts'), ('Asterix_and_the_Missing_Scroll', 'https://asterix.fandom.com/wiki/Asterix_and_the_Missing_Scroll'), ('Asterix_Conquers_Rome', 'https://asterix.fandom.com/wiki/Asterix_Conquers_Rome'), ('How_Obelix_Fell_into_the_Magic_Potion_When_he_was_a_Little_Boy', 'https://asterix.fandom.com/wiki/How_Obelix_Fell_into_the_Magic_Potion_When_he_was_a_Little_Boy'), ('Ast%C3%A9rix_et_ses_Amis', 'https://asterix.fandom.com/wiki/Ast%C3%A9rix_et_ses_Amis'), ('Asterix_and_the_Chariot_Race', 'https://asterix.fandom.com/wiki/Asterix_and_the_Chariot_Race'), ('Asbestos', 'https://asterix.fandom.com/wiki/Asbestos'), ('Operation_Getafix', 'https://asterix.fandom.com/wiki/Operation_Getafix'), ('Prefect', 'https://asterix.fandom.com/wiki/Prefect'), ('Isle_of_Pleasure', 'https://asterix.fandom.com/wiki/Isle_of_Pleasure'), ('Asterix_at_the_Olympic_Games_(film)', 'https://asterix.fandom.com/wiki/Asterix_at_the_Olympic_Games_(film)'), ('Fr%C3%A9d%C3%A9ric_Forestier', 'https://asterix.fandom.com/wiki/Fr%C3%A9d%C3%A9ric_Forestier'), ('Thomas_Langmann', 'https://asterix.fandom.com/wiki/Thomas_Langmann'), ('G%C3%A9rard_Depardieu', 'https://asterix.fandom.com/wiki/G%C3%A9rard_Depardieu'), ('Clovis_Cornillac', 'https://asterix.fandom.com/wiki/Clovis_Cornillac'), ('Sirens', 'https://asterix.fandom.com/wiki/Sirens'), ('The_Place_That_Sends_You_Mad', 'https://asterix.fandom.com/wiki/The_Place_That_Sends_You_Mad'), ('Venus', 'https://asterix.fandom.com/wiki/Venus'), ('Minerva', 'https://asterix.fandom.com/wiki/Minerva'), ('Jupiter', 'https://asterix.fandom.com/wiki/Jupiter'), ('Bacchus', 'https://asterix.fandom.com/wiki/Bacchus'), ('Mars', 'https://asterix.fandom.com/wiki/Mars'), ('Vulcan', 'https://asterix.fandom.com/wiki/Vulcan'), ('The_Dogmatix_Books', 'https://asterix.fandom.com/wiki/The_Dogmatix_Books'), ('1925', 'https://asterix.fandom.com/wiki/1925'), ('Asterix_and_the_Big_Fight_(film)', 'https://asterix.fandom.com/wiki/Asterix_and_the_Big_Fight_(film)'), ('Asterix_%26_Obelix:_Mission_Cleopatra', 'https://asterix.fandom.com/wiki/Asterix_%26_Obelix:_Mission_Cleopatra'), ('Cacofonix_song', 'https://asterix.fandom.com/wiki/Cacofonix_song'), ('Asterix_in_Belgium', 'https://asterix.fandom.com/wiki/Asterix_in_Belgium'), ('Caius_Preposterus', 'https://asterix.fandom.com/wiki/Caius_Preposterus'), ('Asterix_%26_Friends', 'https://asterix.fandom.com/wiki/Asterix_%26_Friends'), ('Asterix_Conquers_America', 'https://asterix.fandom.com/wiki/Asterix_Conquers_America'), ('Sean_Barrett', 'https://asterix.fandom.com/wiki/Sean_Barrett'), ('Hal_Brav', 'https://asterix.fandom.com/wiki/Hal_Brav'), ('1977', 'https://asterix.fandom.com/wiki/1977'), ('Michael_Kilgarriff', 'https://asterix.fandom.com/wiki/Michael_Kilgarriff'), ('Lor%C3%A0nt_Deutsch', 'https://asterix.fandom.com/wiki/Lor%C3%A0nt_Deutsch'), ('John_Wells', 'https://asterix.fandom.com/wiki/John_Wells'), ('Geoffrey_Hughes', 'https://asterix.fandom.com/wiki/Geoffrey_Hughes'), ('Peter_Butterworth', 'https://asterix.fandom.com/wiki/Peter_Butterworth'), ('Les_%C3%89ditions_Albert_Ren%C3%A9', 'https://asterix.fandom.com/wiki/Les_%C3%89ditions_Albert_Ren%C3%A9'), ('Asterix:_The_Secret_of_the_Magic_Potion', 'https://asterix.fandom.com/wiki/Asterix:_The_Secret_of_the_Magic_Potion'), ('Jean-Yves_Ferri', 'https://asterix.fandom.com/wiki/Jean-Yves_Ferri'), ('Suffix', 'https://asterix.fandom.com/wiki/Suffix'), ('Asterix', 'https://asterix.fandom.com/wiki/Asterix'), ('Mrs._Fulliautomatix', 'https://asterix.fandom.com/wiki/Mrs._Fulliautomatix'), ('Geriatrix', 'https://asterix.fandom.com/wiki/Geriatrix'), ('Ulna', 'https://asterix.fandom.com/wiki/Ulna'), ('Caius_Tiddlus', 'https://asterix.fandom.com/wiki/Caius_Tiddlus'), ('Cacofonix', 'https://asterix.fandom.com/wiki/Cacofonix'), ('Vitalstatistix', 'https://asterix.fandom.com/wiki/Vitalstatistix'), ('Unhygienix', 'https://asterix.fandom.com/wiki/Unhygienix'), ('Fulliautomatix', 'https://asterix.fandom.com/wiki/Fulliautomatix'), ('Squareonthehypothenus', 'https://asterix.fandom.com/wiki/Squareonthehypothenus'), ('Huntingseassen', 'https://asterix.fandom.com/wiki/Huntingseassen'), ('Panacea', 'https://asterix.fandom.com/wiki/Panacea'), ('Dogmatix', 'https://asterix.fandom.com/wiki/Dogmatix'), ('The_Twelve_Tasks_of_Asterix', 'https://asterix.fandom.com/wiki/The_Twelve_Tasks_of_Asterix'), ('Magic_potion', 'https://asterix.fandom.com/wiki/Magic_potion'), ('Obelix', 'https://asterix.fandom.com/wiki/Obelix'), ('Julius_Caesar', 'https://asterix.fandom.com/wiki/Julius_Caesar'), ('Getafix', 'https://asterix.fandom.com/wiki/Getafix'), ('Mrs._Geriatrix', 'https://asterix.fandom.com/wiki/Mrs._Geriatrix'), ('Adriana_Hunter', 'https://asterix.fandom.com/wiki/Adriana_Hunter'), ('Didier_Conrad', 'https://asterix.fandom.com/wiki/Didier_Conrad'), ('Asterix_and_the_Chieftain%27s_Daughter', 'https://asterix.fandom.com/wiki/Asterix_and_the_Chieftain%27s_Daughter'), ('Asterix_%26_Obelix_Take_On_Caesar', 'https://asterix.fandom.com/wiki/Asterix_%26_Obelix_Take_On_Caesar'), ('Sulfurix', 'https://asterix.fandom.com/wiki/Sulfurix'), ('Asterix_%26_Obelix_XXL_2:_Mission_Las_Vegum', 'https://asterix.fandom.com/wiki/Asterix_%26_Obelix_XXL_2:_Mission_Las_Vegum'), ('Dogmatix_and_the_Indomitables', 'https://asterix.fandom.com/wiki/Dogmatix_and_the_Indomitables'), ('Adventures_of_Dogmatix', 'https://asterix.fandom.com/wiki/Adventures_of_Dogmatix'), ('Asterix_and_Obelix:_God_Save_Britannia', 'https://asterix.fandom.com/wiki/Asterix_and_Obelix:_God_Save_Britannia'), ('Allister_Brimble', 'https://asterix.fandom.com/wiki/Allister_Brimble'), ('Asterix_%26_Obelix_XXL_3:_The_Crystal_Menhir', 'https://asterix.fandom.com/wiki/Asterix_%26_Obelix_XXL_3:_The_Crystal_Menhir'), ('Asterix_at_the_Olympic_Games_(video_game)', 'https://asterix.fandom.com/wiki/Asterix_at_the_Olympic_Games_(video_game)'), ('Asterix_%26_Obelix_Take_On_Caesar_(video_game)', 'https://asterix.fandom.com/wiki/Asterix_%26_Obelix_Take_On_Caesar_(video_game)'), ('2012', 'https://asterix.fandom.com/wiki/2012'), ('Coronavirus', 'https://asterix.fandom.com/wiki/Coronavirus'), ('Astronomix', 'https://asterix.fandom.com/wiki/Astronomix'), ('List_of_recycled_animation_in_Asterix_movies', 'https://asterix.fandom.com/wiki/List_of_recycled_animation_in_Asterix_movies'), ('List_of_homages_in_Asterix_movies', 'https://asterix.fandom.com/wiki/List_of_homages_in_Asterix_movies'), ('Asterix_and_the_Griffin', 'https://asterix.fandom.com/wiki/Asterix_and_the_Griffin'), ('Asterix_(Netflix)', 'https://asterix.fandom.com/wiki/Asterix_(Netflix)'), ('Asterix_%26_Obelix:_The_Middle_Kingdom', 'https://asterix.fandom.com/wiki/Asterix_%26_Obelix:_The_Middle_Kingdom'), ('Homeopathix', 'https://asterix.fandom.com/wiki/Homeopathix'), ('Category:Candidates_for_deletion', 'https://asterix.fandom.com/wiki/Category:Candidates_for_deletion'), ('Category:Copyright_tags', 'https://asterix.fandom.com/wiki/Category:Copyright_tags'), ('Category:Female_characters', 'https://asterix.fandom.com/wiki/Category:Female_characters'), ('Category:Cover_Art', 'https://asterix.fandom.com/wiki/Category:Cover_Art'), ('Category:Locations', 'https://asterix.fandom.com/wiki/Category:Locations'), ('Category:Cast', 'https://asterix.fandom.com/wiki/Category:Cast'), ('Category:Asterix', 'https://asterix.fandom.com/wiki/Category:Asterix'), ('Category:Video_Games', 'https://asterix.fandom.com/wiki/Category:Video_Games'), ('Category:Images', 'https://asterix.fandom.com/wiki/Category:Images'), ('Category:Female_Characters', 'https://asterix.fandom.com/wiki/Category:Female_Characters'), ('Category:Gauls', 'https://asterix.fandom.com/wiki/Category:Gauls'), ('Category:Romans', 'https://asterix.fandom.com/wiki/Category:Romans'), ('Category:Major_characters', 'https://asterix.fandom.com/wiki/Category:Major_characters'), ('Category:Asterix_albums', 'https://asterix.fandom.com/wiki/Category:Asterix_albums'), ('Category:Characters', 'https://asterix.fandom.com/wiki/Category:Characters'), ('Category:Male_characters', 'https://asterix.fandom.com/wiki/Category:Male_characters'), ('Category:Druids', 'https://asterix.fandom.com/wiki/Category:Druids'), ('Category:Films', 'https://asterix.fandom.com/wiki/Category:Films'), ('Category:Browse', 'https://asterix.fandom.com/wiki/Category:Browse'), ('Category:The_Twelve_Tasks_of_Asterix', 'https://asterix.fandom.com/wiki/Category:The_Twelve_Tasks_of_Asterix'), ('3100000000000000029', 'https://asterix.fandom.com/f/p/3100000000000000029'), ('3100000000000000046', 'https://asterix.fandom.com/f/p/3100000000000000046'), ('4400000000000028058', 'https://asterix.fandom.com/f/p/4400000000000028058'), ('4400000000000029532', 'https://asterix.fandom.com/f/p/4400000000000029532'), ('4400000000000029533', 'https://asterix.fandom.com/f/p/4400000000000029533'), ('4400000000000029781', 'https://asterix.fandom.com/f/p/4400000000000029781')])"
      ]
     },
     "execution_count": 7,
     "metadata": {},
     "output_type": "execute_result"
    }
   ],
   "source": [
    "elements.items()"
   ]
  },
  {
   "cell_type": "code",
   "execution_count": 50,
   "metadata": {},
   "outputs": [],
   "source": [
    "characters_dict = {}\n",
    "counter=0\n",
    "count = 0\n",
    "for k,v in elements.items():\n",
    "    count+=1\n",
    "    result = requests.get(v)\n",
    "    c = result.content\n",
    "    soup = BeautifulSoup(c, \"html.parser\")  # parse HTML page \n",
    "    links = soup.find_all(\"div\", class_='page-header__categories')\n",
    "    #links2 = soup.find_all(\"a\", class_='page-header__categories')https://lotr.fandom.com/wiki/Category:Characters_in_The_History_of_Middle-earth\n",
    "    #print(links)\n",
    "    try:\n",
    "        if '/wiki/Cat%C3%A9gorie:Personnages' in str(links[0]):\n",
    "            characters_dict[k] = v\n",
    "            counter+=1\n",
    "            if counter in range(0,10000,300):\n",
    "                print('%s added to the dict, dict len: %s' %(k,str(len(characters_dict))))\n",
    "    except:\n",
    "        continue"
   ]
  },
  {
   "cell_type": "code",
   "execution_count": 52,
   "metadata": {},
   "outputs": [
    {
     "name": "stdout",
     "output_type": "stream",
     "text": [
      "dict_items([('Frodo_Baggins', 'https://lotr.fandom.com/wiki/Frodo_Baggins'), ('Adelard_Took', 'https://lotr.fandom.com/wiki/Adelard_Took'), ('Bilbo_Baggins', 'https://lotr.fandom.com/wiki/Bilbo_Baggins'), ('Aragorn_II_Elessar', 'https://lotr.fandom.com/wiki/Aragorn_II_Elessar'), ('Saruman', 'https://lotr.fandom.com/wiki/Saruman'), ('Boromir', 'https://lotr.fandom.com/wiki/Boromir'), ('Elrond', 'https://lotr.fandom.com/wiki/Elrond'), ('Galadriel', 'https://lotr.fandom.com/wiki/Galadriel'), ('Arwen', 'https://lotr.fandom.com/wiki/Arwen'), ('%C3%89owyn', 'https://lotr.fandom.com/wiki/%C3%89owyn'), ('Th%C3%A9oden', 'https://lotr.fandom.com/wiki/Th%C3%A9oden'), ('Meriadoc_Brandybuck', 'https://lotr.fandom.com/wiki/Meriadoc_Brandybuck'), ('Samwise_Gamgee', 'https://lotr.fandom.com/wiki/Samwise_Gamgee'), ('Legolas', 'https://lotr.fandom.com/wiki/Legolas'), ('Celeborn', 'https://lotr.fandom.com/wiki/Celeborn'), ('Gimli', 'https://lotr.fandom.com/wiki/Gimli'), ('Shagrat', 'https://lotr.fandom.com/wiki/Shagrat'), ('Peregrin_Took', 'https://lotr.fandom.com/wiki/Peregrin_Took'), ('Gollum', 'https://lotr.fandom.com/wiki/Gollum'), ('%C3%89omer', 'https://lotr.fandom.com/wiki/%C3%89omer'), ('Faramir', 'https://lotr.fandom.com/wiki/Faramir'), ('Tom_Bombadil', 'https://lotr.fandom.com/wiki/Tom_Bombadil'), ('Treebeard', 'https://lotr.fandom.com/wiki/Treebeard'), ('Shelob', 'https://lotr.fandom.com/wiki/Shelob'), ('Goldberry', 'https://lotr.fandom.com/wiki/Goldberry'), ('Witch-king_of_Angmar', 'https://lotr.fandom.com/wiki/Witch-king_of_Angmar'), ('Denethor_II', 'https://lotr.fandom.com/wiki/Denethor_II'), ('Barliman_Butterbur', 'https://lotr.fandom.com/wiki/Barliman_Butterbur'), ('Glorfindel', 'https://lotr.fandom.com/wiki/Glorfindel'), ('Gildor_Inglorion', 'https://lotr.fandom.com/wiki/Gildor_Inglorion'), ('Gorbag', 'https://lotr.fandom.com/wiki/Gorbag'), ('Lugdush', 'https://lotr.fandom.com/wiki/Lugdush'), ('Imrahil', 'https://lotr.fandom.com/wiki/Imrahil'), ('Gr%C3%ADma_Wormtongue', 'https://lotr.fandom.com/wiki/Gr%C3%ADma_Wormtongue'), ('Elladan_and_Elrohir', 'https://lotr.fandom.com/wiki/Elladan_and_Elrohir'), ('Gh%C3%A2n-buri-Gh%C3%A2n', 'https://lotr.fandom.com/wiki/Gh%C3%A2n-buri-Gh%C3%A2n'), ('Gamling', 'https://lotr.fandom.com/wiki/Gamling'), ('Mauh%C3%BAr', 'https://lotr.fandom.com/wiki/Mauh%C3%BAr'), ('Gwaihir', 'https://lotr.fandom.com/wiki/Gwaihir'), ('Fredegar_Bolger', 'https://lotr.fandom.com/wiki/Fredegar_Bolger'), ('Beregond_(Captain)', 'https://lotr.fandom.com/wiki/Beregond_(Captain)'), ('Bergil', 'https://lotr.fandom.com/wiki/Bergil'), ('Grimbold', 'https://lotr.fandom.com/wiki/Grimbold'), ('Witch-king%27s_fellbeast', 'https://lotr.fandom.com/wiki/Witch-king%27s_fellbeast'), ('Gandalf', 'https://lotr.fandom.com/wiki/Gandalf'), ('Everard_Took', 'https://lotr.fandom.com/wiki/Everard_Took'), ('Hasufel', 'https://lotr.fandom.com/wiki/Hasufel'), ('Category:Characters_that_have_appeared_in_the_Hobbit_and_the_Lord_of_the_Rings', 'https://lotr.fandom.com/wiki/Category:Characters_that_have_appeared_in_the_Hobbit_and_the_Lord_of_the_Rings'), ('Category:Minor_characters_(The_Lord_of_the_Rings)', 'https://lotr.fandom.com/wiki/Category:Minor_characters_(The_Lord_of_the_Rings)'), ('Category:Major_characters_(The_Lord_of_the_Rings)', 'https://lotr.fandom.com/wiki/Category:Major_characters_(The_Lord_of_the_Rings)')])\n"
     ]
    }
   ],
   "source": [
    "print(characters_dict.items())"
   ]
  },
  {
   "cell_type": "code",
   "execution_count": 53,
   "metadata": {},
   "outputs": [
    {
     "data": {
      "text/plain": [
       "50"
      ]
     },
     "execution_count": 53,
     "metadata": {},
     "output_type": "execute_result"
    }
   ],
   "source": [
    "category_dict={}\n",
    "for k,v in characters_dict.items():\n",
    "    if 'Category:' in k:\n",
    "        category_dict[k]=v\n",
    "        characters_dict[k]\n",
    "len(characters_dict)"
   ]
  },
  {
   "cell_type": "code",
   "execution_count": 54,
   "metadata": {},
   "outputs": [
    {
     "name": "stdout",
     "output_type": "stream",
     "text": [
      "3\n"
     ]
    }
   ],
   "source": [
    "print(len(category_dict.items()))"
   ]
  },
  {
   "cell_type": "code",
   "execution_count": 55,
   "metadata": {
    "scrolled": true
   },
   "outputs": [
    {
     "data": {
      "text/plain": [
       "{b'https://lotr.fandom.com/wiki/Frodo_Baggins': 'Frodo_Baggins',\n",
       " b'https://lotr.fandom.com/wiki/Adelard_Took': 'Adelard_Took',\n",
       " b'https://lotr.fandom.com/wiki/Bilbo_Baggins': 'Bilbo_Baggins',\n",
       " b'https://lotr.fandom.com/wiki/Aragorn_II_Elessar': 'Aragorn_II_Elessar'}"
      ]
     },
     "execution_count": 55,
     "metadata": {},
     "output_type": "execute_result"
    }
   ],
   "source": [
    "import itertools\n",
    "inverted_dict = {v.encode('utf-8'): k for k, v in characters_dict.items()}\n",
    "dict(itertools.islice(inverted_dict.items(), 0, 4))"
   ]
  },
  {
   "cell_type": "code",
   "execution_count": 56,
   "metadata": {
    "scrolled": true
   },
   "outputs": [],
   "source": [
    "import collections\n",
    "from lxml import html\n",
    "import pandas as pd\n",
    "character_count=collections.Counter()\n",
    "character_text=dict()\n",
    "character_network = collections.Counter()\n",
    "base_url = 'https://lotr.fandom.com'\n",
    "\n",
    "characters_details=[]\n",
    "\n",
    "for character_url, character_name in inverted_dict.items():\n",
    "    character_html = requests.get(character_url)\n",
    "    page = html.fromstring(character_html.text)\n",
    "    soup = BeautifulSoup(character_html.content, \"html.parser\")\n",
    "        \n",
    "    lotr_dict={'character_name':character_name,'character_url': character_url}\n",
    "    lotr_name = soup.find(\"h2\", class_=\"pi-item pi-item-spacing pi-title\")\n",
    "    if lotr_name:\n",
    "        lotr_dict['lotr_name']=lotr_name.contents[0]\n",
    "    for lotr in soup.find_all(\"div\", class_=\"pi-item\"):\n",
    "        lotr_data = lotr.text.split('\\n')\n",
    "        lotr_dict[lotr_data[1].strip().lower()] = lotr_data[2].strip().lower()\n",
    "    characters_details.append(lotr_dict)\n",
    "        \n",
    "    character = {'name':character_name, 'url':character_url, 'html_content':character_html.text }    \n",
    "    character['text'] = soup.find('div',{'id':'mw-content-text'}).text \n",
    "    character['links'] = collections.Counter([inverted_dict[base_url+link.get('href').encode('utf-8')] for link in soup.find('div',{'id':'mw-content-text'}).find_all('a') if link.get('href') and (base_url+str(link.get('href').encode('utf-8'))) in inverted_dict])\n",
    "    character_count=character_count + character['links']\n",
    "    character_text[character_name]=soup.find(\"div\",{\"id\":\"mw-content-text\"}).text\n",
    "    for x in character:\n",
    "        x = character_name\n",
    "        for y in character['links']:\n",
    "            character_network[(x, y)] = character['links'][y]\n",
    "    if len(character_text) in range(0,2000,100):\n",
    "        print('%s added to the dict, dict len: %s' %(character_name,str(len(character_text))))"
   ]
  },
  {
   "cell_type": "code",
   "execution_count": 109,
   "metadata": {},
   "outputs": [
    {
     "data": {
      "text/plain": [
       "dict_keys([b'https://lotr.fandom.com/wiki/Frodo_Baggins', b'https://lotr.fandom.com/wiki/Adelard_Took', b'https://lotr.fandom.com/wiki/Bilbo_Baggins', b'https://lotr.fandom.com/wiki/Aragorn_II_Elessar', b'https://lotr.fandom.com/wiki/Saruman', b'https://lotr.fandom.com/wiki/Boromir', b'https://lotr.fandom.com/wiki/Elrond', b'https://lotr.fandom.com/wiki/Galadriel', b'https://lotr.fandom.com/wiki/Arwen', b'https://lotr.fandom.com/wiki/%C3%89owyn', b'https://lotr.fandom.com/wiki/Th%C3%A9oden', b'https://lotr.fandom.com/wiki/Meriadoc_Brandybuck', b'https://lotr.fandom.com/wiki/Samwise_Gamgee', b'https://lotr.fandom.com/wiki/Legolas', b'https://lotr.fandom.com/wiki/Celeborn', b'https://lotr.fandom.com/wiki/Gimli', b'https://lotr.fandom.com/wiki/Shagrat', b'https://lotr.fandom.com/wiki/Peregrin_Took', b'https://lotr.fandom.com/wiki/Gollum', b'https://lotr.fandom.com/wiki/%C3%89omer', b'https://lotr.fandom.com/wiki/Faramir', b'https://lotr.fandom.com/wiki/Tom_Bombadil', b'https://lotr.fandom.com/wiki/Treebeard', b'https://lotr.fandom.com/wiki/Shelob', b'https://lotr.fandom.com/wiki/Goldberry', b'https://lotr.fandom.com/wiki/Witch-king_of_Angmar', b'https://lotr.fandom.com/wiki/Denethor_II', b'https://lotr.fandom.com/wiki/Barliman_Butterbur', b'https://lotr.fandom.com/wiki/Glorfindel', b'https://lotr.fandom.com/wiki/Gildor_Inglorion', b'https://lotr.fandom.com/wiki/Gorbag', b'https://lotr.fandom.com/wiki/Lugdush', b'https://lotr.fandom.com/wiki/Imrahil', b'https://lotr.fandom.com/wiki/Gr%C3%ADma_Wormtongue', b'https://lotr.fandom.com/wiki/Elladan_and_Elrohir', b'https://lotr.fandom.com/wiki/Gh%C3%A2n-buri-Gh%C3%A2n', b'https://lotr.fandom.com/wiki/Gamling', b'https://lotr.fandom.com/wiki/Mauh%C3%BAr', b'https://lotr.fandom.com/wiki/Gwaihir', b'https://lotr.fandom.com/wiki/Fredegar_Bolger', b'https://lotr.fandom.com/wiki/Beregond_(Captain)', b'https://lotr.fandom.com/wiki/Bergil', b'https://lotr.fandom.com/wiki/Grimbold', b'https://lotr.fandom.com/wiki/Witch-king%27s_fellbeast', b'https://lotr.fandom.com/wiki/Gandalf', b'https://lotr.fandom.com/wiki/Everard_Took', b'https://lotr.fandom.com/wiki/Hasufel', b'https://lotr.fandom.com/wiki/Category:Characters_that_have_appeared_in_the_Hobbit_and_the_Lord_of_the_Rings', b'https://lotr.fandom.com/wiki/Category:Minor_characters_(The_Lord_of_the_Rings)', b'https://lotr.fandom.com/wiki/Category:Major_characters_(The_Lord_of_the_Rings)'])"
      ]
     },
     "execution_count": 109,
     "metadata": {},
     "output_type": "execute_result"
    }
   ],
   "source": [
    "inverted_dict.keys()"
   ]
  },
  {
   "cell_type": "code",
   "execution_count": 118,
   "metadata": {},
   "outputs": [],
   "source": [
    "characters_details=[]\n",
    "for character_url, character_name in inverted_dict.items():\n",
    "    character_html = requests.get(character_url)\n",
    "    page = html.fromstring(character_html.text)\n",
    "    soup = BeautifulSoup(character_html.content, \"html.parser\")\n",
    "        \n",
    "        \n",
    "    character = {'name':character_name, 'url':character_url, 'html_content':character_html.text }    \n",
    "\n",
    "    c = []\n",
    "    for link in soup.find('div',{'id':'mw-content-text'}).find_all('a'):\n",
    "        #print(base_url+str(link.get('href').encode('utf-8')))\n",
    "        if (link.get('href')) is None:\n",
    "            continue\n",
    "        l = (base_url+str(link.get('href').encode('utf-8')))\n",
    "        d = (base_url+str(link.get('href')))\n",
    "        if link.get('href') and d.encode('UTF-8') in inverted_dict.keys() and d not in c:\n",
    "            c.append(d)\n",
    "    #c = [inverted_dict[base_url+link.get('href').encode('utf-8')] for link in soup.find('div',{'id':'mw-content-text'}).find_all('a') if link.get('href') and (base_url+str(link.get('href').encode('utf-8'))) in inverted_dict]\n",
    "    lotr_dict={'character_name':character_name,'character_url': character_url.decode(\"utf-8\"),'links':c}\n",
    "    #lotr_name = soup.find(\"h2\", class_=\"pi-item pi-item-spacing pi-title\")\n",
    "\n",
    "    characters_details.append(lotr_dict)"
   ]
  },
  {
   "cell_type": "code",
   "execution_count": 119,
   "metadata": {},
   "outputs": [],
   "source": [
    "import json\n",
    "with open('data.txt', 'w') as outfile:\n",
    "    json.dump(characters_details, outfile)"
   ]
  },
  {
   "cell_type": "code",
   "execution_count": 59,
   "metadata": {},
   "outputs": [
    {
     "name": "stdout",
     "output_type": "stream",
     "text": [
      "{'character_name': 'Frodo_Baggins', 'character_url': b'https://lotr.fandom.com/wiki/Frodo_Baggins', 'other names': 'frodo of the nine fingers, nine-fingered frodo, maura labingi(westron name), mr. underhill,sneaky hobbit (by gollum)', 'titles': 'bearer of the one ring, elf-friend, deputy mayor of michel delving', 'birth': 'september 22, ta 2968 (sr 1368)', 'rule': \"november, ta 3019 to mid-year's day, ta 3020\", 'death': 'unknown (last sighting september 29, 3021) (sr 1421)', 'weapon': 'sting and barrow-blade', 'hair': 'brown', 'culture': 'shire-hobbit (brandybuck family/baggins family)', 'actor': 'elijah wood', 'voice': 'elijah wood (video games)'}\n"
     ]
    }
   ],
   "source": [
    "print(characters_details[0])"
   ]
  }
 ],
 "metadata": {
  "interpreter": {
   "hash": "03c2cf26e091feae7b236fec569d72ea45011828d05926b86b59af5a84cedbe9"
  },
  "kernelspec": {
   "display_name": "Python 3.9.7 64-bit",
   "name": "python3"
  },
  "language_info": {
   "codemirror_mode": {
    "name": "ipython",
    "version": 3
   },
   "file_extension": ".py",
   "mimetype": "text/x-python",
   "name": "python",
   "nbconvert_exporter": "python",
   "pygments_lexer": "ipython3",
   "version": "3.9.7"
  }
 },
 "nbformat": 4,
 "nbformat_minor": 2
}
