{
 "cells": [
  {
   "cell_type": "code",
   "execution_count": 20,
   "metadata": {},
   "outputs": [
    {
     "name": "stdout",
     "output_type": "stream",
     "text": [
      "b'<?xml version=\"1.0\" encoding=\"UTF-8\"?>\\n<sitemapindex xmlns=\"http://www.sitemaps.org/schemas/sitemap/0.9\">\\n<sitemap><loc>https://narnia.fandom.com/sitemap-newsitemapxml-NS_0-id-4-15978.xml</loc></sitemap>\\n<sitemap><loc>https://narnia.fandom.com/sitemap-newsitemapxml-NS_14-id-4898-15418.xml</loc></sitemap>\\n</sitemapindex>\\n<!-- Generation time: 5ms -->\\n<!-- Generation date: 2021-10-10T17:01:45Z -->\\n'\n"
     ]
    }
   ],
   "source": [
    "import requests\n",
    "\n",
    "#base_url = 'https://lotr.fandom.com'\n",
    "#base_url = 'https://harrypotter.fandom.com'\n",
    "#base_url = 'https://asterix.fandom.com'\n",
    "#base_url = 'https://thehungergames.fandom.com'\n",
    "#base_url = 'https://asterix.fandom.com'\n",
    "base_url = 'https://narnia.fandom.com'\n",
    "\n",
    "\n",
    "result = requests.get(base_url+'/sitemap-newsitemapxml-index.xml')\n",
    "\n",
    "c = result.content\n",
    "print(c)"
   ]
  },
  {
   "cell_type": "code",
   "execution_count": 21,
   "metadata": {},
   "outputs": [
    {
     "name": "stdout",
     "output_type": "stream",
     "text": [
      "https://narnia.fandom.com/sitemap-newsitemapxml-NS_0-id-4-15978.xml\n",
      "https://narnia.fandom.com/sitemap-newsitemapxml-NS_14-id-4898-15418.xml\n"
     ]
    }
   ],
   "source": [
    "from bs4 import BeautifulSoup \n",
    "import lxml\n",
    "import xml.etree.ElementTree as ET\n",
    "root = ET.fromstring(c)\n",
    "for link in root.iter('{http://www.sitemaps.org/schemas/sitemap/0.9}loc'):\n",
    "    print(link.text)"
   ]
  },
  {
   "cell_type": "code",
   "execution_count": 22,
   "metadata": {},
   "outputs": [
    {
     "name": "stdout",
     "output_type": "stream",
     "text": [
      "Found 846 elements\n"
     ]
    }
   ],
   "source": [
    "elements = dict()\n",
    "for page in root.iter('{http://www.sitemaps.org/schemas/sitemap/0.9}loc'):\n",
    "    result = requests.get(page.text)\n",
    "    c = result.content\n",
    "    new_root = ET.fromstring(c)\n",
    "    for element in new_root.iter('{http://www.sitemaps.org/schemas/sitemap/0.9}loc'):\n",
    "        elements[element.text.split('/')[-1]] = element.text\n",
    "print('Found {} elements'.format(len(elements)))"
   ]
  },
  {
   "cell_type": "code",
   "execution_count": 19,
   "metadata": {},
   "outputs": [],
   "source": [
    "#elements.items()"
   ]
  },
  {
   "cell_type": "code",
   "execution_count": 25,
   "metadata": {},
   "outputs": [],
   "source": [
    "characters_dict = {}\n",
    "counter=0\n",
    "count = 0\n",
    "for k,v in elements.items():\n",
    "    count+=1\n",
    "    result = requests.get(v)\n",
    "    c = result.content\n",
    "    soup = BeautifulSoup(c, \"html.parser\")  # parse HTML page \n",
    "    links = soup.find_all(\"div\", class_='page-header__categories')\n",
    "    #links2 = soup.find_all(\"a\", class_='page-header__categories')https://lotr.fandom.com/wiki/Category:Characters_in_The_History_of_Middle-earth\n",
    "    #print(links)\n",
    "    try:\n",
    "        if '/wiki/Category:Characters' in str(links[0]):\n",
    "        #if '/wiki/Cat%C3%A9gorie:Personnages' in str(links[0]):\n",
    "            characters_dict[k] = v\n",
    "            counter+=1\n",
    "            if counter in range(0,10000,300):\n",
    "                print('%s added to the dict, dict len: %s' %(k,str(len(characters_dict))))\n",
    "    except:\n",
    "        continue"
   ]
  },
  {
   "cell_type": "code",
   "execution_count": 26,
   "metadata": {},
   "outputs": [
    {
     "name": "stdout",
     "output_type": "stream",
     "text": [
      "dict_items([('Jadis', 'https://narnia.fandom.com/wiki/Jadis'), ('Aslan', 'https://narnia.fandom.com/wiki/Aslan'), ('Andrew_Ketterley', 'https://narnia.fandom.com/wiki/Andrew_Ketterley'), ('Digory_Kirke', 'https://narnia.fandom.com/wiki/Digory_Kirke'), ('Polly_Plummer', 'https://narnia.fandom.com/wiki/Polly_Plummer'), ('Edmund_Pevensie', 'https://narnia.fandom.com/wiki/Edmund_Pevensie'), ('Peter_Pevensie', 'https://narnia.fandom.com/wiki/Peter_Pevensie'), ('Susan_Pevensie', 'https://narnia.fandom.com/wiki/Susan_Pevensie'), ('Queen_Helen', 'https://narnia.fandom.com/wiki/Queen_Helen'), ('Frank_I', 'https://narnia.fandom.com/wiki/Frank_I'), ('Eustace_Scrubb', 'https://narnia.fandom.com/wiki/Eustace_Scrubb'), ('Jill_Pole', 'https://narnia.fandom.com/wiki/Jill_Pole'), ('Aravis_Tarkheena', 'https://narnia.fandom.com/wiki/Aravis_Tarkheena'), ('Mr._Beaver', 'https://narnia.fandom.com/wiki/Mr._Beaver'), ('Mrs._Beaver', 'https://narnia.fandom.com/wiki/Mrs._Beaver'), ('Breehy-hinny-brinny-hoohy-hah', 'https://narnia.fandom.com/wiki/Breehy-hinny-brinny-hoohy-hah'), ('Bulgy_Bears', 'https://narnia.fandom.com/wiki/Bulgy_Bears'), ('Cornelius', 'https://narnia.fandom.com/wiki/Cornelius'), ('Caspian_X', 'https://narnia.fandom.com/wiki/Caspian_X'), ('Glimfeather', 'https://narnia.fandom.com/wiki/Glimfeather'), ('Hwin', 'https://narnia.fandom.com/wiki/Hwin'), ('Jewel', 'https://narnia.fandom.com/wiki/Jewel'), ('Lady_of_the_Green_Kirtle', 'https://narnia.fandom.com/wiki/Lady_of_the_Green_Kirtle'), ('Prunaprismia', 'https://narnia.fandom.com/wiki/Prunaprismia'), ('Miraz', 'https://narnia.fandom.com/wiki/Miraz'), ('Nikabrik', 'https://narnia.fandom.com/wiki/Nikabrik'), ('Peepiceek', 'https://narnia.fandom.com/wiki/Peepiceek'), ('Puzzle', 'https://narnia.fandom.com/wiki/Puzzle'), ('Puddleglum', 'https://narnia.fandom.com/wiki/Puddleglum'), ('Reepicheep', 'https://narnia.fandom.com/wiki/Reepicheep'), ('Trufflehunter', 'https://narnia.fandom.com/wiki/Trufflehunter'), ('Shift', 'https://narnia.fandom.com/wiki/Shift'), ('Tash', 'https://narnia.fandom.com/wiki/Tash'), ('Tirian', 'https://narnia.fandom.com/wiki/Tirian'), ('Tumnus', 'https://narnia.fandom.com/wiki/Tumnus'), ('Trumpkin', 'https://narnia.fandom.com/wiki/Trumpkin'), ('Caspian_IX', 'https://narnia.fandom.com/wiki/Caspian_IX'), ('Rilian', 'https://narnia.fandom.com/wiki/Rilian'), ('Otmin', 'https://narnia.fandom.com/wiki/Otmin'), ('Oreius', 'https://narnia.fandom.com/wiki/Oreius'), ('Caspian_I', 'https://narnia.fandom.com/wiki/Caspian_I'), ('Tarkaan', 'https://narnia.fandom.com/wiki/Tarkaan'), ('Emperor-Beyond-The-Sea', 'https://narnia.fandom.com/wiki/Emperor-Beyond-The-Sea'), ('Octesian', 'https://narnia.fandom.com/wiki/Octesian'), ('Pevensies', 'https://narnia.fandom.com/wiki/Pevensies'), ('Pittencream', 'https://narnia.fandom.com/wiki/Pittencream'), ('Erlian', 'https://narnia.fandom.com/wiki/Erlian'), ('Frank_V', 'https://narnia.fandom.com/wiki/Frank_V'), ('Gale', 'https://narnia.fandom.com/wiki/Gale'), ('Tisroc', 'https://narnia.fandom.com/wiki/Tisroc'), ('Swanwhite', 'https://narnia.fandom.com/wiki/Swanwhite'), ('Tarkheena', 'https://narnia.fandom.com/wiki/Tarkheena'), ('Kidrash_Tarkaan', 'https://narnia.fandom.com/wiki/Kidrash_Tarkaan'), ('Rishti_Tarkaan', 'https://narnia.fandom.com/wiki/Rishti_Tarkaan'), ('Ahoshta', 'https://narnia.fandom.com/wiki/Ahoshta'), ('Axartha_Tarkaan', 'https://narnia.fandom.com/wiki/Axartha_Tarkaan'), ('Col', 'https://narnia.fandom.com/wiki/Col'), ('Arsheesh', 'https://narnia.fandom.com/wiki/Arsheesh'), ('Macready', 'https://narnia.fandom.com/wiki/Macready'), ('Father_Christmas', 'https://narnia.fandom.com/wiki/Father_Christmas'), ('Ginarrbrik', 'https://narnia.fandom.com/wiki/Ginarrbrik'), ('Dwarf', 'https://narnia.fandom.com/wiki/Dwarf'), ('Lilygloves', 'https://narnia.fandom.com/wiki/Lilygloves'), ('Pomona', 'https://narnia.fandom.com/wiki/Pomona'), ('Caspian%27s_Nurse', 'https://narnia.fandom.com/wiki/Caspian%27s_Nurse'), ('Glenstorm', 'https://narnia.fandom.com/wiki/Glenstorm'), ('Wimbleweather', 'https://narnia.fandom.com/wiki/Wimbleweather'), ('Rumblebuffin', 'https://narnia.fandom.com/wiki/Rumblebuffin'), ('Cloudbirth', 'https://narnia.fandom.com/wiki/Cloudbirth'), ('Roonwit', 'https://narnia.fandom.com/wiki/Roonwit'), ('Glozelle', 'https://narnia.fandom.com/wiki/Glozelle'), ('Sopespian', 'https://narnia.fandom.com/wiki/Sopespian'), ('Glenstorm%27s_sons', 'https://narnia.fandom.com/wiki/Glenstorm%27s_sons'), ('Maugrim', 'https://narnia.fandom.com/wiki/Maugrim'), ('Philip', 'https://narnia.fandom.com/wiki/Philip'), ('Peter%27s_Unicorn', 'https://narnia.fandom.com/wiki/Peter%27s_Unicorn'), ('Asterius', 'https://narnia.fandom.com/wiki/Asterius'), ('Phoenix', 'https://narnia.fandom.com/wiki/Phoenix'), ('Vardan', 'https://narnia.fandom.com/wiki/Vardan'), ('Pattertwig', 'https://narnia.fandom.com/wiki/Pattertwig'), ('Lune', 'https://narnia.fandom.com/wiki/Lune'), ('Destrier', 'https://narnia.fandom.com/wiki/Destrier'), ('Seven_Brothers_of_Shuddering_Wood', 'https://narnia.fandom.com/wiki/Seven_Brothers_of_Shuddering_Wood'), ('Anradin', 'https://narnia.fandom.com/wiki/Anradin'), ('Cor', 'https://narnia.fandom.com/wiki/Cor'), ('Ramandu', 'https://narnia.fandom.com/wiki/Ramandu'), ('Farsight', 'https://narnia.fandom.com/wiki/Farsight'), ('Scythley', 'https://narnia.fandom.com/wiki/Scythley'), ('Corin', 'https://narnia.fandom.com/wiki/Corin'), ('Coriakin', 'https://narnia.fandom.com/wiki/Coriakin'), ('Drinian', 'https://narnia.fandom.com/wiki/Drinian'), ('Camillo', 'https://narnia.fandom.com/wiki/Camillo'), ('Clodsley_Shovel', 'https://narnia.fandom.com/wiki/Clodsley_Shovel'), ('Lasaraleen_Tarkheena', 'https://narnia.fandom.com/wiki/Lasaraleen_Tarkheena'), ('Ram_the_Great', 'https://narnia.fandom.com/wiki/Ram_the_Great'), ('Tyrus', 'https://narnia.fandom.com/wiki/Tyrus'), ('Lightning_Bolt', 'https://narnia.fandom.com/wiki/Lightning_Bolt'), ('Fledge', 'https://narnia.fandom.com/wiki/Fledge'), ('Hermit_of_the_Southern_March', 'https://narnia.fandom.com/wiki/Hermit_of_the_Southern_March'), ('Lord_Rhoop', 'https://narnia.fandom.com/wiki/Lord_Rhoop'), ('Donnon', 'https://narnia.fandom.com/wiki/Donnon'), ('Windmane', 'https://narnia.fandom.com/wiki/Windmane'), ('Bern', 'https://narnia.fandom.com/wiki/Bern'), ('Restimar', 'https://narnia.fandom.com/wiki/Restimar'), ('Emeth', 'https://narnia.fandom.com/wiki/Emeth'), ('Azaroth', 'https://narnia.fandom.com/wiki/Azaroth'), ('Nain', 'https://narnia.fandom.com/wiki/Nain'), ('Argoz', 'https://narnia.fandom.com/wiki/Argoz'), ('Seven_Friends_of_Narnia', 'https://narnia.fandom.com/wiki/Seven_Friends_of_Narnia'), ('Poggin', 'https://narnia.fandom.com/wiki/Poggin'), ('Zardeenah', 'https://narnia.fandom.com/wiki/Zardeenah'), ('Gregoire', 'https://narnia.fandom.com/wiki/Gregoire'), ('Pug', 'https://narnia.fandom.com/wiki/Pug'), ('Revilian', 'https://narnia.fandom.com/wiki/Revilian'), ('Mavramorn', 'https://narnia.fandom.com/wiki/Mavramorn'), ('Mullugutherum', 'https://narnia.fandom.com/wiki/Mullugutherum'), ('Father_Time', 'https://narnia.fandom.com/wiki/Father_Time'), ('Sallowpad', 'https://narnia.fandom.com/wiki/Sallowpad'), ('Hogglestock', 'https://narnia.fandom.com/wiki/Hogglestock'), ('Rishda_Tarkaan', 'https://narnia.fandom.com/wiki/Rishda_Tarkaan'), ('Letitia_Ketterley', 'https://narnia.fandom.com/wiki/Letitia_Ketterley'), ('Electrus', 'https://narnia.fandom.com/wiki/Electrus'), ('Wraggle', 'https://narnia.fandom.com/wiki/Wraggle'), ('Diomedus', 'https://narnia.fandom.com/wiki/Diomedus'), ('Ivy,_Margaret_and_Betty', 'https://narnia.fandom.com/wiki/Ivy,_Margaret_and_Betty'), ('Orruns', 'https://narnia.fandom.com/wiki/Orruns'), ('Arlian', 'https://narnia.fandom.com/wiki/Arlian'), ('Belisar', 'https://narnia.fandom.com/wiki/Belisar'), ('Slinkey', 'https://narnia.fandom.com/wiki/Slinkey'), ('Stonefoot', 'https://narnia.fandom.com/wiki/Stonefoot'), ('The_Porter', 'https://narnia.fandom.com/wiki/The_Porter'), ('Ginger', 'https://narnia.fandom.com/wiki/Ginger'), ('Urnus', 'https://narnia.fandom.com/wiki/Urnus'), ('Bricklethumb', 'https://narnia.fandom.com/wiki/Bricklethumb'), ('Griffle', 'https://narnia.fandom.com/wiki/Griffle'), ('Duffle', 'https://narnia.fandom.com/wiki/Duffle'), ('Rogin', 'https://narnia.fandom.com/wiki/Rogin'), ('Thornbut', 'https://narnia.fandom.com/wiki/Thornbut'), ('Oak', 'https://narnia.fandom.com/wiki/Oak'), ('Chervy', 'https://narnia.fandom.com/wiki/Chervy'), ('Golg', 'https://narnia.fandom.com/wiki/Golg'), ('Alberta_Scrubb', 'https://narnia.fandom.com/wiki/Alberta_Scrubb'), ('Uvilas', 'https://narnia.fandom.com/wiki/Uvilas'), ('Rhince', 'https://narnia.fandom.com/wiki/Rhince'), ('Alimash', 'https://narnia.fandom.com/wiki/Alimash'), ('Anne_Feathertone', 'https://narnia.fandom.com/wiki/Anne_Feathertone'), ('Ardeeb_Tisroc', 'https://narnia.fandom.com/wiki/Ardeeb_Tisroc'), ('Azrooh', 'https://narnia.fandom.com/wiki/Azrooh'), ('Olvin', 'https://narnia.fandom.com/wiki/Olvin'), ('Lord_Bar', 'https://narnia.fandom.com/wiki/Lord_Bar'), ('Carter', 'https://narnia.fandom.com/wiki/Carter'), ('Chlamash', 'https://narnia.fandom.com/wiki/Chlamash'), ('Cole', 'https://narnia.fandom.com/wiki/Cole'), ('Colin', 'https://narnia.fandom.com/wiki/Colin'), ('Dar', 'https://narnia.fandom.com/wiki/Dar'), ('Darrin', 'https://narnia.fandom.com/wiki/Darrin'), ('Edith_Jackle', 'https://narnia.fandom.com/wiki/Edith_Jackle'), ('Edith_Winterblott', 'https://narnia.fandom.com/wiki/Edith_Winterblott'), ('Edward', 'https://narnia.fandom.com/wiki/Edward'), ('Erimon', 'https://narnia.fandom.com/wiki/Erimon'), ('Garrett_Twins', 'https://narnia.fandom.com/wiki/Garrett_Twins'), ('Governor_Gumpas', 'https://narnia.fandom.com/wiki/Governor_Gumpas'), ('Gwendolen', 'https://narnia.fandom.com/wiki/Gwendolen'), ('Harpha', 'https://narnia.fandom.com/wiki/Harpha'), ('Harold_Scrubb', 'https://narnia.fandom.com/wiki/Harold_Scrubb'), ('Lady_Liln', 'https://narnia.fandom.com/wiki/Lady_Liln'), ('Mabel_Kirke', 'https://narnia.fandom.com/wiki/Mabel_Kirke'), ('Spivvins', 'https://narnia.fandom.com/wiki/Spivvins'), ('Marjorie_Preston', 'https://narnia.fandom.com/wiki/Marjorie_Preston'), ('Silenus', 'https://narnia.fandom.com/wiki/Silenus'), ('Illsombreh_Tisroc', 'https://narnia.fandom.com/wiki/Illsombreh_Tisroc'), ('Lucy_Pevensie', 'https://narnia.fandom.com/wiki/Lucy_Pevensie'), ('Clipsie_Duffer', 'https://narnia.fandom.com/wiki/Clipsie_Duffer'), ('Chief_Duffer', 'https://narnia.fandom.com/wiki/Chief_Duffer'), ('Mrs._Lefay', 'https://narnia.fandom.com/wiki/Mrs._Lefay'), ('Helen_Pevensie', 'https://narnia.fandom.com/wiki/Helen_Pevensie'), ('Nausus', 'https://narnia.fandom.com/wiki/Nausus'), ('Rynelf', 'https://narnia.fandom.com/wiki/Rynelf'), ('Peridan', 'https://narnia.fandom.com/wiki/Peridan'), ('Rabadash', 'https://narnia.fandom.com/wiki/Rabadash'), ('Shar', 'https://narnia.fandom.com/wiki/Shar'), ('Tran', 'https://narnia.fandom.com/wiki/Tran'), ('Alambil', 'https://narnia.fandom.com/wiki/Alambil'), ('Moonwood', 'https://narnia.fandom.com/wiki/Moonwood'), ('Pomely', 'https://narnia.fandom.com/wiki/Pomely'), ('Caspian_IX%27s_Queen', 'https://narnia.fandom.com/wiki/Caspian_IX%27s_Queen'), ('Tavros', 'https://narnia.fandom.com/wiki/Tavros'), ('Gael', 'https://narnia.fandom.com/wiki/Gael'), ('Geeky_Boy', 'https://narnia.fandom.com/wiki/Geeky_Boy'), ('Snowflake', 'https://narnia.fandom.com/wiki/Snowflake'), ('Coalblack', 'https://narnia.fandom.com/wiki/Coalblack'), ('Christopher_Pevensie', 'https://narnia.fandom.com/wiki/Christopher_Pevensie'), ('Ilgamuth', 'https://narnia.fandom.com/wiki/Ilgamuth'), ('Caprius', 'https://narnia.fandom.com/wiki/Caprius'), ('Jemain', 'https://narnia.fandom.com/wiki/Jemain'), ('Cruickshanks', 'https://narnia.fandom.com/wiki/Cruickshanks'), ('Lilliandil', 'https://narnia.fandom.com/wiki/Lilliandil'), ('Jadis%27_sister', 'https://narnia.fandom.com/wiki/Jadis%27_sister'), ('Sons_of_Adam', 'https://narnia.fandom.com/wiki/Sons_of_Adam'), ('King_of_Harfang', 'https://narnia.fandom.com/wiki/King_of_Harfang'), ('Queen_of_Harfang', 'https://narnia.fandom.com/wiki/Queen_of_Harfang'), ('The_Lapsed_Bear_of_Stormness', 'https://narnia.fandom.com/wiki/The_Lapsed_Bear_of_Stormness'), ('Bacchus', 'https://narnia.fandom.com/wiki/Bacchus'), ('Sarah', 'https://narnia.fandom.com/wiki/Sarah'), ('Sherlock_Holmes', 'https://narnia.fandom.com/wiki/Sherlock_Holmes'), ('The_Bastables', 'https://narnia.fandom.com/wiki/The_Bastables'), ('Master_Bowman', 'https://narnia.fandom.com/wiki/Master_Bowman'), ('Five_Black_Dwarfs', 'https://narnia.fandom.com/wiki/Five_Black_Dwarfs'), ('Governor_Gumpas%27s_Secretary', 'https://narnia.fandom.com/wiki/Governor_Gumpas%27s_Secretary'), ('Tumnus%27s_father', 'https://narnia.fandom.com/wiki/Tumnus%27s_father'), ('Christmas_Dinner_Party_Narnians', 'https://narnia.fandom.com/wiki/Christmas_Dinner_Party_Narnians'), ('Corradin_of_Castle_Tormunt', 'https://narnia.fandom.com/wiki/Corradin_of_Castle_Tormunt'), ('Screechycreak', 'https://narnia.fandom.com/wiki/Screechycreak'), ('Mufasa%27s_Army', 'https://narnia.fandom.com/wiki/Mufasa%27s_Army'), ('Mufasa', 'https://narnia.fandom.com/wiki/Mufasa'), ('Cosmo_Scam', 'https://narnia.fandom.com/wiki/Cosmo_Scam'), ('Category:Adults', 'https://narnia.fandom.com/wiki/Category:Adults'), ('Category:Villians', 'https://narnia.fandom.com/wiki/Category:Villians'), ('Category:Narnian_species', 'https://narnia.fandom.com/wiki/Category:Narnian_species'), ('Category:Main_characters', 'https://narnia.fandom.com/wiki/Category:Main_characters'), ('Category:Characters_of_The_Horse_and_his_Boy', 'https://narnia.fandom.com/wiki/Category:Characters_of_The_Horse_and_his_Boy'), ('Category:Characters_of_The_Lion,_the_Witch_and_the_Wardrobe', 'https://narnia.fandom.com/wiki/Category:Characters_of_The_Lion,_the_Witch_and_the_Wardrobe'), ('Category:Characters_of_The_Last_Battle', 'https://narnia.fandom.com/wiki/Category:Characters_of_The_Last_Battle'), ('Category:Male_characters', 'https://narnia.fandom.com/wiki/Category:Male_characters'), ('Category:Female_characters', 'https://narnia.fandom.com/wiki/Category:Female_characters')])\n"
     ]
    }
   ],
   "source": [
    "print(characters_dict.items())"
   ]
  },
  {
   "cell_type": "code",
   "execution_count": 27,
   "metadata": {},
   "outputs": [
    {
     "data": {
      "text/plain": [
       "225"
      ]
     },
     "execution_count": 27,
     "metadata": {},
     "output_type": "execute_result"
    }
   ],
   "source": [
    "category_dict={}\n",
    "for k,v in characters_dict.items():\n",
    "    if 'Category:' in k:\n",
    "        category_dict[k]=v\n",
    "        characters_dict[k]\n",
    "len(characters_dict)"
   ]
  },
  {
   "cell_type": "code",
   "execution_count": 28,
   "metadata": {},
   "outputs": [
    {
     "name": "stdout",
     "output_type": "stream",
     "text": [
      "9\n"
     ]
    }
   ],
   "source": [
    "print(len(category_dict.items()))"
   ]
  },
  {
   "cell_type": "code",
   "execution_count": 29,
   "metadata": {
    "scrolled": true
   },
   "outputs": [
    {
     "data": {
      "text/plain": [
       "{b'https://narnia.fandom.com/wiki/Jadis': 'Jadis',\n",
       " b'https://narnia.fandom.com/wiki/Aslan': 'Aslan',\n",
       " b'https://narnia.fandom.com/wiki/Andrew_Ketterley': 'Andrew_Ketterley',\n",
       " b'https://narnia.fandom.com/wiki/Digory_Kirke': 'Digory_Kirke'}"
      ]
     },
     "execution_count": 29,
     "metadata": {},
     "output_type": "execute_result"
    }
   ],
   "source": [
    "import itertools\n",
    "inverted_dict = {v.encode('utf-8'): k for k, v in characters_dict.items()}\n",
    "dict(itertools.islice(inverted_dict.items(), 0, 4))"
   ]
  },
  {
   "cell_type": "code",
   "execution_count": 33,
   "metadata": {},
   "outputs": [],
   "source": [
    "import collections\n",
    "from lxml import html\n",
    "import pandas as pd\n",
    "character_count=collections.Counter()\n",
    "character_text=dict()\n",
    "character_network = collections.Counter()\n",
    "\n",
    "characters_details=[]\n",
    "for character_url, character_name in inverted_dict.items():\n",
    "    character_html = requests.get(character_url)\n",
    "    page = html.fromstring(character_html.text)\n",
    "    soup = BeautifulSoup(character_html.content, \"html.parser\")\n",
    "        \n",
    "        \n",
    "    character = {'name':character_name, 'url':character_url, 'html_content':character_html.text }    \n",
    "\n",
    "    c = []\n",
    "    for link in soup.find('div',{'id':'mw-content-text'}).find_all('a'):\n",
    "        #print(base_url+str(link.get('href').encode('utf-8')))\n",
    "        if (link.get('href')) is None:\n",
    "            continue\n",
    "        l = (base_url+str(link.get('href').encode('utf-8')))\n",
    "        d = (base_url+str(link.get('href')))\n",
    "        if link.get('href') and d.encode('UTF-8') in inverted_dict.keys() and d not in c:\n",
    "            c.append(d)\n",
    "    #c = [inverted_dict[base_url+link.get('href').encode('utf-8')] for link in soup.find('div',{'id':'mw-content-text'}).find_all('a') if link.get('href') and (base_url+str(link.get('href').encode('utf-8'))) in inverted_dict]\n",
    "    lotr_dict={'character_name':character_name,'character_url': character_url.decode(\"utf-8\"),'links':c}\n",
    "    #lotr_name = soup.find(\"h2\", class_=\"pi-item pi-item-spacing pi-title\")\n",
    "\n",
    "    characters_details.append(lotr_dict)"
   ]
  },
  {
   "cell_type": "code",
   "execution_count": 34,
   "metadata": {},
   "outputs": [],
   "source": [
    "import json\n",
    "with open('narnia_char1.json', 'w') as outfile:\n",
    "    json.dump(characters_details, outfile)"
   ]
  },
  {
   "cell_type": "code",
   "execution_count": 59,
   "metadata": {},
   "outputs": [
    {
     "name": "stdout",
     "output_type": "stream",
     "text": [
      "{'character_name': 'Frodo_Baggins', 'character_url': b'https://lotr.fandom.com/wiki/Frodo_Baggins', 'other names': 'frodo of the nine fingers, nine-fingered frodo, maura labingi(westron name), mr. underhill,sneaky hobbit (by gollum)', 'titles': 'bearer of the one ring, elf-friend, deputy mayor of michel delving', 'birth': 'september 22, ta 2968 (sr 1368)', 'rule': \"november, ta 3019 to mid-year's day, ta 3020\", 'death': 'unknown (last sighting september 29, 3021) (sr 1421)', 'weapon': 'sting and barrow-blade', 'hair': 'brown', 'culture': 'shire-hobbit (brandybuck family/baggins family)', 'actor': 'elijah wood', 'voice': 'elijah wood (video games)'}\n"
     ]
    }
   ],
   "source": [
    "print(characters_details[0])"
   ]
  }
 ],
 "metadata": {
  "interpreter": {
   "hash": "03c2cf26e091feae7b236fec569d72ea45011828d05926b86b59af5a84cedbe9"
  },
  "kernelspec": {
   "display_name": "Python 3.9.7 64-bit",
   "name": "python3"
  },
  "language_info": {
   "codemirror_mode": {
    "name": "ipython",
    "version": 3
   },
   "file_extension": ".py",
   "mimetype": "text/x-python",
   "name": "python",
   "nbconvert_exporter": "python",
   "pygments_lexer": "ipython3",
   "version": "3.9.7"
  }
 },
 "nbformat": 4,
 "nbformat_minor": 2
}
