{
 "cells": [
  {
   "cell_type": "code",
   "execution_count": 66,
   "metadata": {},
   "outputs": [
    {
     "name": "stdout",
     "output_type": "stream",
     "text": [
      "b'<?xml version=\"1.0\" encoding=\"UTF-8\"?>\\n<sitemapindex xmlns=\"http://www.sitemaps.org/schemas/sitemap/0.9\">\\n<sitemap><loc>https://asterix.fandom.com/sitemap-newsitemapxml-NS_0-id-1461-3675.xml</loc></sitemap>\\n<sitemap><loc>https://asterix.fandom.com/sitemap-newsitemapxml-NS_14-id-1509-3220.xml</loc></sitemap>\\n<sitemap><loc>https://services.fandom.com/discussions-sitemap/sitemap/3118</loc></sitemap>\\n</sitemapindex>\\n<!-- Generation time: 6ms -->\\n<!-- Generation date: 2021-10-10T16:44:27Z -->\\n'\n"
     ]
    }
   ],
   "source": [
    "import requests\n",
    "\n",
    "saved_file = 'asterix_char1.json'\n",
    "use_category = True\n",
    "\n",
    "#base_url = 'https://lotr.fandom.com'\n",
    "#base_url = 'https://harrypotter.fandom.com'\n",
    "#base_url = 'https://asterix.fandom.com'\n",
    "#base_url = 'https://thehungergames.fandom.com'\n",
    "base_url = 'https://asterix.fandom.com'\n",
    "#base_url = 'https://narnia.fandom.com'\n",
    "\n",
    "\n",
    "result = requests.get(base_url+'/sitemap-newsitemapxml-index.xml')\n",
    "\n",
    "c = result.content\n",
    "print(c)"
   ]
  },
  {
   "cell_type": "code",
   "execution_count": 67,
   "metadata": {},
   "outputs": [
    {
     "name": "stdout",
     "output_type": "stream",
     "text": [
      "https://asterix.fandom.com/sitemap-newsitemapxml-NS_0-id-1461-3675.xml\n",
      "https://asterix.fandom.com/sitemap-newsitemapxml-NS_14-id-1509-3220.xml\n",
      "https://services.fandom.com/discussions-sitemap/sitemap/3118\n"
     ]
    }
   ],
   "source": [
    "from bs4 import BeautifulSoup \n",
    "import lxml\n",
    "import xml.etree.ElementTree as ET\n",
    "root = ET.fromstring(c)\n",
    "for link in root.iter('{http://www.sitemaps.org/schemas/sitemap/0.9}loc'):\n",
    "    print(link.text)"
   ]
  },
  {
   "cell_type": "code",
   "execution_count": 68,
   "metadata": {},
   "outputs": [
    {
     "name": "stdout",
     "output_type": "stream",
     "text": [
      "Found 337 elements\n"
     ]
    }
   ],
   "source": [
    "elements = dict()\n",
    "for page in root.iter('{http://www.sitemaps.org/schemas/sitemap/0.9}loc'):\n",
    "    result = requests.get(page.text)\n",
    "    c = result.content\n",
    "    new_root = ET.fromstring(c)\n",
    "    for element in new_root.iter('{http://www.sitemaps.org/schemas/sitemap/0.9}loc'):\n",
    "        elements[element.text.split('/')[-1]] = element.text\n",
    "print('Found {} elements'.format(len(elements)))"
   ]
  },
  {
   "cell_type": "code",
   "execution_count": 69,
   "metadata": {},
   "outputs": [],
   "source": [
    "#elements.items()"
   ]
  },
  {
   "cell_type": "code",
   "execution_count": 70,
   "metadata": {},
   "outputs": [],
   "source": [
    "characters_dict = {}\n",
    "if use_category:\n",
    "    counter=0\n",
    "    count = 0\n",
    "    for k,v in elements.items():\n",
    "        count+=1\n",
    "        result = requests.get(v)\n",
    "        c = result.content\n",
    "        soup = BeautifulSoup(c, \"html.parser\")  # parse HTML page \n",
    "        links = soup.find_all(\"div\", class_='page-header__categories')\n",
    "        #links2 = soup.find_all(\"a\", class_='page-header__categories')https://lotr.fandom.com/wiki/Category:Characters_in_The_History_of_Middle-earth\n",
    "        #print(links)\n",
    "        try:\n",
    "            if '/wiki/Category:Characters' in str(links[0]):\n",
    "            #if '/wiki/Cat%C3%A9gorie:Personnages' in str(links[0]):\n",
    "                characters_dict[k] = v\n",
    "                counter+=1\n",
    "                if counter in range(0,10000,300):\n",
    "                    print('%s added to the dict, dict len: %s' %(k,str(len(characters_dict))))\n",
    "        except:\n",
    "            continue\n",
    "else:\n",
    "    characters_dict = elements"
   ]
  },
  {
   "cell_type": "code",
   "execution_count": 71,
   "metadata": {},
   "outputs": [
    {
     "name": "stdout",
     "output_type": "stream",
     "text": [
      "dict_items([('Asterix_(Character)', 'https://asterix.fandom.com/wiki/Asterix_(Character)'), ('Impedimenta', 'https://asterix.fandom.com/wiki/Impedimenta'), ('Bacteria', 'https://asterix.fandom.com/wiki/Bacteria'), ('The_Pirates', 'https://asterix.fandom.com/wiki/The_Pirates'), ('Metallurgix', 'https://asterix.fandom.com/wiki/Metallurgix'), ('Cleopatra', 'https://asterix.fandom.com/wiki/Cleopatra'), ('Ekonomikrisis', 'https://asterix.fandom.com/wiki/Ekonomikrisis'), ('Claudius_M%C3%A9trobus', 'https://asterix.fandom.com/wiki/Claudius_M%C3%A9trobus'), ('Atmospheric,_Prehsitoric,_Tartaric,_Esoteric', 'https://asterix.fandom.com/wiki/Atmospheric,_Prehsitoric,_Tartaric,_Esoteric'), ('Caius_Flebitus,_Gracchus_Sextilius_and_Claudius_Quintilius', 'https://asterix.fandom.com/wiki/Caius_Flebitus,_Gracchus_Sextilius_and_Claudius_Quintilius'), ('_Amonbofis', 'https://asterix.fandom.com/wiki/Artifis_/_Amonbofis'), ('Krukhut', 'https://asterix.fandom.com/wiki/Krukhut'), ('Gastroenteritus_and_Arteriosclerosus', 'https://asterix.fandom.com/wiki/Gastroenteritus_and_Arteriosclerosus'), ('Porpus', 'https://asterix.fandom.com/wiki/Porpus'), ('Bicarbonatofsoda', 'https://asterix.fandom.com/wiki/Bicarbonatofsoda'), ('Cassius_Ceramix', 'https://asterix.fandom.com/wiki/Cassius_Ceramix'), ('Unpatriotix', 'https://asterix.fandom.com/wiki/Unpatriotix'), ('Valueaddedtax', 'https://asterix.fandom.com/wiki/Valueaddedtax'), ('Adipus', 'https://asterix.fandom.com/wiki/Adipus'), ('Brutus', 'https://asterix.fandom.com/wiki/Brutus'), ('Unscrupulus', 'https://asterix.fandom.com/wiki/Unscrupulus'), ('Marcus_Ubiquitus', 'https://asterix.fandom.com/wiki/Marcus_Ubiquitus'), ('Artifis', 'https://asterix.fandom.com/wiki/Artifis'), ('Esoteric', 'https://asterix.fandom.com/wiki/Esoteric'), ('Liquorix', 'https://asterix.fandom.com/wiki/Liquorix'), ('W_H_Smix', 'https://asterix.fandom.com/wiki/W_H_Smix'), ('Mykingdomforanos', 'https://asterix.fandom.com/wiki/Mykingdomforanos'), ('McAnix', 'https://asterix.fandom.com/wiki/McAnix'), ('O%E2%80%99veroptimistix', 'https://asterix.fandom.com/wiki/O%E2%80%99veroptimistix'), ('Sarsaparilla', 'https://asterix.fandom.com/wiki/Sarsaparilla'), ('List_of_Asterix_characters', 'https://asterix.fandom.com/wiki/List_of_Asterix_characters'), ('Lucius_Detritus', 'https://asterix.fandom.com/wiki/Lucius_Detritus'), ('Homeless_Roman_Man', 'https://asterix.fandom.com/wiki/Homeless_Roman_Man'), ('Iris', 'https://asterix.fandom.com/wiki/Iris'), ('Cilindric_the_German', 'https://asterix.fandom.com/wiki/Cilindric_the_German'), ('Verses', 'https://asterix.fandom.com/wiki/Verses'), ('Mannekenpix', 'https://asterix.fandom.com/wiki/Mannekenpix'), ('Old_Man_of_the_Mountain', 'https://asterix.fandom.com/wiki/Old_Man_of_the_Mountain'), ('Asbestos', 'https://asterix.fandom.com/wiki/Asbestos'), ('Prefect', 'https://asterix.fandom.com/wiki/Prefect'), ('Sirens', 'https://asterix.fandom.com/wiki/Sirens'), ('Venus', 'https://asterix.fandom.com/wiki/Venus'), ('Minerva', 'https://asterix.fandom.com/wiki/Minerva'), ('Jupiter', 'https://asterix.fandom.com/wiki/Jupiter'), ('Bacchus', 'https://asterix.fandom.com/wiki/Bacchus'), ('Mars', 'https://asterix.fandom.com/wiki/Mars'), ('Vulcan', 'https://asterix.fandom.com/wiki/Vulcan'), ('Caius_Preposterus', 'https://asterix.fandom.com/wiki/Caius_Preposterus'), ('Mrs._Fulliautomatix', 'https://asterix.fandom.com/wiki/Mrs._Fulliautomatix'), ('Geriatrix', 'https://asterix.fandom.com/wiki/Geriatrix'), ('Caius_Tiddlus', 'https://asterix.fandom.com/wiki/Caius_Tiddlus'), ('Cacofonix', 'https://asterix.fandom.com/wiki/Cacofonix'), ('Vitalstatistix', 'https://asterix.fandom.com/wiki/Vitalstatistix'), ('Unhygienix', 'https://asterix.fandom.com/wiki/Unhygienix'), ('Fulliautomatix', 'https://asterix.fandom.com/wiki/Fulliautomatix'), ('Huntingseassen', 'https://asterix.fandom.com/wiki/Huntingseassen'), ('Panacea', 'https://asterix.fandom.com/wiki/Panacea'), ('Dogmatix', 'https://asterix.fandom.com/wiki/Dogmatix'), ('Obelix', 'https://asterix.fandom.com/wiki/Obelix'), ('Julius_Caesar', 'https://asterix.fandom.com/wiki/Julius_Caesar'), ('Getafix', 'https://asterix.fandom.com/wiki/Getafix'), ('Mrs._Geriatrix', 'https://asterix.fandom.com/wiki/Mrs._Geriatrix'), ('Sulfurix', 'https://asterix.fandom.com/wiki/Sulfurix'), ('Astronomix', 'https://asterix.fandom.com/wiki/Astronomix'), ('Category:Female_characters', 'https://asterix.fandom.com/wiki/Category:Female_characters'), ('Category:Female_Characters', 'https://asterix.fandom.com/wiki/Category:Female_Characters'), ('Category:Gauls', 'https://asterix.fandom.com/wiki/Category:Gauls'), ('Category:Romans', 'https://asterix.fandom.com/wiki/Category:Romans'), ('Category:Major_characters', 'https://asterix.fandom.com/wiki/Category:Major_characters'), ('Category:Male_characters', 'https://asterix.fandom.com/wiki/Category:Male_characters'), ('Category:Druids', 'https://asterix.fandom.com/wiki/Category:Druids')])\n"
     ]
    }
   ],
   "source": [
    "print(characters_dict.items())"
   ]
  },
  {
   "cell_type": "code",
   "execution_count": 72,
   "metadata": {
    "scrolled": true
   },
   "outputs": [
    {
     "data": {
      "text/plain": [
       "{b'https://asterix.fandom.com/wiki/Asterix_(Character)': 'Asterix_(Character)',\n",
       " b'https://asterix.fandom.com/wiki/Impedimenta': 'Impedimenta',\n",
       " b'https://asterix.fandom.com/wiki/Bacteria': 'Bacteria',\n",
       " b'https://asterix.fandom.com/wiki/The_Pirates': 'The_Pirates'}"
      ]
     },
     "execution_count": 72,
     "metadata": {},
     "output_type": "execute_result"
    }
   ],
   "source": [
    "import itertools\n",
    "inverted_dict = {v.encode('utf-8'): k for k, v in characters_dict.items()}\n",
    "dict(itertools.islice(inverted_dict.items(), 0, 4))"
   ]
  },
  {
   "cell_type": "code",
   "execution_count": 73,
   "metadata": {},
   "outputs": [
    {
     "name": "stdout",
     "output_type": "stream",
     "text": [
      "71\n"
     ]
    }
   ],
   "source": [
    "import collections\n",
    "from lxml import html\n",
    "import pandas as pd\n",
    "character_count=collections.Counter()\n",
    "character_text=dict()\n",
    "character_network = collections.Counter()\n",
    "\n",
    "characters_details=[]\n",
    "for character_url, character_name in inverted_dict.items():\n",
    "    character_html = requests.get(character_url)\n",
    "    page = html.fromstring(character_html.text)\n",
    "    soup = BeautifulSoup(character_html.content, \"html.parser\")\n",
    "        \n",
    "        \n",
    "    character = {'name':character_name, 'url':character_url, 'html_content':character_html.text }    \n",
    "\n",
    "    c = []\n",
    "    s = soup.find('div',{'id':'mw-content-text'})\n",
    "    if (s is None):\n",
    "        continue\n",
    "    for link in s.find_all('a'):\n",
    "        #print(base_url+str(link.get('href').encode('utf-8')))\n",
    "        if (link.get('href')) is None:\n",
    "            continue\n",
    "        l = (base_url+str(link.get('href').encode('utf-8')))\n",
    "        d = (base_url+str(link.get('href')))\n",
    "        \n",
    "        if link.get('href') and d.encode('UTF-8') in inverted_dict.keys() and d not in c:\n",
    "            c.append(d)\n",
    "    #c = [inverted_dict[base_url+link.get('href').encode('utf-8')] for link in soup.find('div',{'id':'mw-content-text'}).find_all('a') if link.get('href') and (base_url+str(link.get('href').encode('utf-8'))) in inverted_dict]\n",
    "    lotr_dict={'character_name':character_name,'character_url': character_url.decode(\"utf-8\"),'links':c}\n",
    "    #lotr_name = soup.find(\"h2\", class_=\"pi-item pi-item-spacing pi-title\")\n",
    "    characters_details.append(lotr_dict)\n",
    "print(len(characters_details))"
   ]
  },
  {
   "cell_type": "code",
   "execution_count": 74,
   "metadata": {},
   "outputs": [],
   "source": [
    "import json\n",
    "with open(saved_file, 'w') as outfile:\n",
    "    json.dump(characters_details, outfile)"
   ]
  }
 ],
 "metadata": {
  "interpreter": {
   "hash": "03c2cf26e091feae7b236fec569d72ea45011828d05926b86b59af5a84cedbe9"
  },
  "kernelspec": {
   "display_name": "Python 3.9.7 64-bit",
   "name": "python3"
  },
  "language_info": {
   "codemirror_mode": {
    "name": "ipython",
    "version": 3
   },
   "file_extension": ".py",
   "mimetype": "text/x-python",
   "name": "python",
   "nbconvert_exporter": "python",
   "pygments_lexer": "ipython3",
   "version": "3.9.7"
  }
 },
 "nbformat": 4,
 "nbformat_minor": 2
}
